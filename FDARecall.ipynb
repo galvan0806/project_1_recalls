{
 "cells": [
  {
   "cell_type": "code",
   "execution_count": 1,
   "metadata": {},
   "outputs": [],
   "source": [
    "import requests\n",
    "import pandas as pd\n",
    "import matplotlib.pyplot as plt\n",
    "import plotly.graph_objects as go\n",
    "from plotly.subplots import make_subplots\n",
    "\n",
    "# Define the API endpoint and parameters\n",
    "url = \"https://api.fda.gov/food/enforcement.json?search=report_date:[20200101+TO+20240804]&limit=500\"\n",
    "\n",
    "# Send a GET request to the API\n",
    "response = requests.get(url)\n",
    "\n",
    "\n",
    "# Check if the request was successful\n",
    "if response.status_code == 200:\n",
    "    # Parse the JSON data\n",
    "    data = response.json()\n",
    "    \n",
    "    # Extract the list of results (recalls)\n",
    "    recalls = data.get('results', [])\n",
    "    \n",
    "    # Create a DataFrame from the list of recall records\n",
    "    recall_df = pd.DataFrame(recalls)\n",
    "    \n",
    "    # Save the DataFrame to a CSV file\n",
    "    recall_df.to_csv('output_data/fda_food_enforcement_data.csv', index=False)"
   ]
  },
  {
   "cell_type": "code",
   "execution_count": 2,
   "metadata": {},
   "outputs": [
    {
     "data": {
      "text/html": [
       "<div>\n",
       "<style scoped>\n",
       "    .dataframe tbody tr th:only-of-type {\n",
       "        vertical-align: middle;\n",
       "    }\n",
       "\n",
       "    .dataframe tbody tr th {\n",
       "        vertical-align: top;\n",
       "    }\n",
       "\n",
       "    .dataframe thead th {\n",
       "        text-align: right;\n",
       "    }\n",
       "</style>\n",
       "<table border=\"1\" class=\"dataframe\">\n",
       "  <thead>\n",
       "    <tr style=\"text-align: right;\">\n",
       "      <th></th>\n",
       "      <th>Status</th>\n",
       "      <th>City</th>\n",
       "      <th>State</th>\n",
       "      <th>Country</th>\n",
       "      <th>Classification</th>\n",
       "      <th>Open FDA</th>\n",
       "      <th>Product Type</th>\n",
       "      <th>Event ID</th>\n",
       "      <th>Recalling Firm</th>\n",
       "      <th>Address 1</th>\n",
       "      <th>...</th>\n",
       "      <th>Recall Number</th>\n",
       "      <th>Product Description</th>\n",
       "      <th>Product Quantity</th>\n",
       "      <th>Reason for Recall</th>\n",
       "      <th>Recall Initiation Date</th>\n",
       "      <th>Center Classification Date</th>\n",
       "      <th>Termination Date</th>\n",
       "      <th>Report Date</th>\n",
       "      <th>Code Info</th>\n",
       "      <th>More Code Info</th>\n",
       "    </tr>\n",
       "  </thead>\n",
       "  <tbody>\n",
       "    <tr>\n",
       "      <th>0</th>\n",
       "      <td>Terminated</td>\n",
       "      <td>Rancho Dominguez</td>\n",
       "      <td>CA</td>\n",
       "      <td>United States</td>\n",
       "      <td>Class III</td>\n",
       "      <td>{}</td>\n",
       "      <td>Food</td>\n",
       "      <td>85253</td>\n",
       "      <td>Organic By Nature, Inc.</td>\n",
       "      <td>2610 Homestead Pl</td>\n",
       "      <td>...</td>\n",
       "      <td>F-0904-2020</td>\n",
       "      <td>Pure Planet Organic Parasite Cleanse;  Net Wt....</td>\n",
       "      <td>xx</td>\n",
       "      <td>Firm was notified by supplier that Organic Gro...</td>\n",
       "      <td>20200224</td>\n",
       "      <td>20200413</td>\n",
       "      <td>20210202</td>\n",
       "      <td>20200401</td>\n",
       "      <td>Lot codes: 72746</td>\n",
       "      <td></td>\n",
       "    </tr>\n",
       "    <tr>\n",
       "      <th>1</th>\n",
       "      <td>Terminated</td>\n",
       "      <td>Brooklyn</td>\n",
       "      <td>NY</td>\n",
       "      <td>United States</td>\n",
       "      <td>Class III</td>\n",
       "      <td>{}</td>\n",
       "      <td>Food</td>\n",
       "      <td>85364</td>\n",
       "      <td>Rong Shing Trading NY Inc</td>\n",
       "      <td>47 Bridgewater St # 57</td>\n",
       "      <td>...</td>\n",
       "      <td>F-0921-2020</td>\n",
       "      <td>XinXing Dried Plum, Net Wt. 5.3 oz.(150g)</td>\n",
       "      <td>unknown</td>\n",
       "      <td>Product contains dried peaches, but front labe...</td>\n",
       "      <td>20200401</td>\n",
       "      <td>20200424</td>\n",
       "      <td>20210318</td>\n",
       "      <td>20200506</td>\n",
       "      <td>UPC CODE: 6868978724496  BEST BEFORE: 11/15/2021</td>\n",
       "      <td>NaN</td>\n",
       "    </tr>\n",
       "    <tr>\n",
       "      <th>2</th>\n",
       "      <td>Terminated</td>\n",
       "      <td>Monterey</td>\n",
       "      <td>CA</td>\n",
       "      <td>United States</td>\n",
       "      <td>Class I</td>\n",
       "      <td>{}</td>\n",
       "      <td>Food</td>\n",
       "      <td>89381</td>\n",
       "      <td>Dole Fresh Vegetables Inc</td>\n",
       "      <td>2959 Salinas Hwy</td>\n",
       "      <td>...</td>\n",
       "      <td>F-0757-2022</td>\n",
       "      <td>Marketside 12oz Classic Salad  UPC:6-81131-328...</td>\n",
       "      <td></td>\n",
       "      <td>Harvest equipment used in harvesting raw icebe...</td>\n",
       "      <td>20220106</td>\n",
       "      <td>20220222</td>\n",
       "      <td>20220322</td>\n",
       "      <td>20220302</td>\n",
       "      <td>Product codes beginning with B - Best by Dates...</td>\n",
       "      <td></td>\n",
       "    </tr>\n",
       "    <tr>\n",
       "      <th>3</th>\n",
       "      <td>Terminated</td>\n",
       "      <td>Lovell</td>\n",
       "      <td>WY</td>\n",
       "      <td>United States</td>\n",
       "      <td>Class II</td>\n",
       "      <td>{}</td>\n",
       "      <td>Food</td>\n",
       "      <td>90158</td>\n",
       "      <td>Queen Bee Gardens, LLC</td>\n",
       "      <td>262 E Main St</td>\n",
       "      <td>...</td>\n",
       "      <td>F-1472-2022</td>\n",
       "      <td>Honey Caramels Blue Raspberry. Product availab...</td>\n",
       "      <td>171 pieces</td>\n",
       "      <td>Products may potentially contain one or more o...</td>\n",
       "      <td>20220428</td>\n",
       "      <td>20220719</td>\n",
       "      <td>20230117</td>\n",
       "      <td>20220727</td>\n",
       "      <td>None</td>\n",
       "      <td>NaN</td>\n",
       "    </tr>\n",
       "    <tr>\n",
       "      <th>4</th>\n",
       "      <td>Terminated</td>\n",
       "      <td>Nof Ha-Galil</td>\n",
       "      <td></td>\n",
       "      <td>Israel</td>\n",
       "      <td>Class I</td>\n",
       "      <td>{}</td>\n",
       "      <td>Food</td>\n",
       "      <td>90105</td>\n",
       "      <td>ELITE CONFECTIONERY LTD</td>\n",
       "      <td>Nazareth-Ilit</td>\n",
       "      <td>...</td>\n",
       "      <td>F-1233-2022</td>\n",
       "      <td>ELITE MILK CHOCOLATE COATED RICE CAKES  UPC:81...</td>\n",
       "      <td>unknown</td>\n",
       "      <td>Potential contamination with Salmonella</td>\n",
       "      <td>20220428</td>\n",
       "      <td>20220604</td>\n",
       "      <td>20221103</td>\n",
       "      <td>20220615</td>\n",
       "      <td>All lots</td>\n",
       "      <td></td>\n",
       "    </tr>\n",
       "  </tbody>\n",
       "</table>\n",
       "<p>5 rows × 25 columns</p>\n",
       "</div>"
      ],
      "text/plain": [
       "       Status              City State        Country Classification Open FDA  \\\n",
       "0  Terminated  Rancho Dominguez    CA  United States      Class III       {}   \n",
       "1  Terminated          Brooklyn    NY  United States      Class III       {}   \n",
       "2  Terminated          Monterey    CA  United States        Class I       {}   \n",
       "3  Terminated            Lovell    WY  United States       Class II       {}   \n",
       "4  Terminated      Nof Ha-Galil               Israel        Class I       {}   \n",
       "\n",
       "  Product Type Event ID             Recalling Firm               Address 1  \\\n",
       "0         Food    85253    Organic By Nature, Inc.       2610 Homestead Pl   \n",
       "1         Food    85364  Rong Shing Trading NY Inc  47 Bridgewater St # 57   \n",
       "2         Food    89381  Dole Fresh Vegetables Inc        2959 Salinas Hwy   \n",
       "3         Food    90158     Queen Bee Gardens, LLC           262 E Main St   \n",
       "4         Food    90105    ELITE CONFECTIONERY LTD           Nazareth-Ilit   \n",
       "\n",
       "   ... Recall Number                                Product Description  \\\n",
       "0  ...   F-0904-2020  Pure Planet Organic Parasite Cleanse;  Net Wt....   \n",
       "1  ...   F-0921-2020          XinXing Dried Plum, Net Wt. 5.3 oz.(150g)   \n",
       "2  ...   F-0757-2022  Marketside 12oz Classic Salad  UPC:6-81131-328...   \n",
       "3  ...   F-1472-2022  Honey Caramels Blue Raspberry. Product availab...   \n",
       "4  ...   F-1233-2022  ELITE MILK CHOCOLATE COATED RICE CAKES  UPC:81...   \n",
       "\n",
       "  Product Quantity                                  Reason for Recall  \\\n",
       "0               xx  Firm was notified by supplier that Organic Gro...   \n",
       "1          unknown  Product contains dried peaches, but front labe...   \n",
       "2                   Harvest equipment used in harvesting raw icebe...   \n",
       "3       171 pieces  Products may potentially contain one or more o...   \n",
       "4          unknown            Potential contamination with Salmonella   \n",
       "\n",
       "  Recall Initiation Date Center Classification Date Termination Date  \\\n",
       "0               20200224                   20200413         20210202   \n",
       "1               20200401                   20200424         20210318   \n",
       "2               20220106                   20220222         20220322   \n",
       "3               20220428                   20220719         20230117   \n",
       "4               20220428                   20220604         20221103   \n",
       "\n",
       "  Report Date                                          Code Info  \\\n",
       "0    20200401                                   Lot codes: 72746   \n",
       "1    20200506   UPC CODE: 6868978724496  BEST BEFORE: 11/15/2021   \n",
       "2    20220302  Product codes beginning with B - Best by Dates...   \n",
       "3    20220727                                               None   \n",
       "4    20220615                                           All lots   \n",
       "\n",
       "  More Code Info  \n",
       "0                 \n",
       "1            NaN  \n",
       "2                 \n",
       "3            NaN  \n",
       "4                 \n",
       "\n",
       "[5 rows x 25 columns]"
      ]
     },
     "execution_count": 2,
     "metadata": {},
     "output_type": "execute_result"
    }
   ],
   "source": [
    "\n",
    "clean_df = recall_df.rename(columns={\"status\": \"Status\", \n",
    "                                     \"city\": \"City\",\n",
    "                                     \"state\": \"State\",\n",
    "                                     \"country\":\"Country\",\n",
    "                                     \"classification\":\"Classification\",\n",
    "                                     \"openfda\":\"Open FDA\",\n",
    "                                     \"product_type\":\"Product Type\",\n",
    "                                     \"event_id\":\"Event ID\",\n",
    "                                     \"recalling_firm\":\"Recalling Firm\",\n",
    "                                     \"address_1\":\"Address 1\",\n",
    "                                     \"address_2\":\"Address 2\",\n",
    "                                     \"postal_code\":\"Postal Code\",\n",
    "                                     \"voluntary_mandated\":\"Voluntary Mandated\",\n",
    "                                     \"initial_firm_notification\":\"Initial Firm Notification\",\n",
    "                                     \"distribution_pattern\":\"Distribution Pattern\",\n",
    "                                     \"recall_number\":\"Recall Number\",\n",
    "                                     \"product_description\":\"Product Description\",\n",
    "                                     \"product_quantity\":\"Product Quantity\",\n",
    "                                     \"reason_for_recall\":\"Reason for Recall\",\n",
    "                                     \"recall_initiation_date\":\"Recall Initiation Date\",\n",
    "                                     \"center_classification_date\":\"Center Classification Date\",\n",
    "                                     \"termination_date\":\"Termination Date\",\n",
    "                                     \"report_date\":\"Report Date\",\n",
    "                                     \"code_info\":\"Code Info\",\n",
    "                                     \"more_code_info\":\"More Code Info\",\n",
    "                                    \n",
    "                                     })\n",
    "\n",
    "clean_df.head()"
   ]
  },
  {
   "cell_type": "markdown",
   "metadata": {},
   "source": [
    "## Which firms have the most recalls?"
   ]
  },
  {
   "cell_type": "code",
   "execution_count": 3,
   "metadata": {},
   "outputs": [
    {
     "name": "stdout",
     "output_type": "stream",
     "text": [
      "Total amount of unique Recalling Firms associated to the FDA Recalls is 295\n"
     ]
    }
   ],
   "source": [
    "recalling_firm_df = clean_df[\"Recalling Firm\"].unique()\n",
    "\n",
    "recalling_firm_count_df = len(recalling_firm_df)\n",
    "\n",
    "#print(recalling_firm_count_df)\n",
    "print(\"Total amount of unique Recalling Firms associated to the FDA Recalls is \"  + str(recalling_firm_count_df) )"
   ]
  },
  {
   "cell_type": "code",
   "execution_count": 4,
   "metadata": {},
   "outputs": [
    {
     "name": "stdout",
     "output_type": "stream",
     "text": [
      "Recalling Firm\n",
      "FRESH IDEATION FOOD GROUP, LLC dba Fresh Creative Cuisine    34\n",
      "Newly Weds Foods, Inc.                                       13\n",
      "Fresh Express Incorporated                                    9\n",
      "Vitality Works, Inc                                           9\n",
      "Wegmans Food Markets, Inc.                                    6\n",
      "ELITE CONFECTIONERY LTD                                       6\n",
      "The JM Smucker Company LLC                                    6\n",
      "Giant Eagle                                                   6\n",
      "Lemonland Food Corp                                           6\n",
      "Lyons Magnus, Inc                                             6\n",
      "Banner Smoked Fish Inc.                                       5\n",
      "Renaissance Food Group                                        5\n",
      "ICE CREAM HOUSE                                               5\n",
      "Abbott Laboratories                                           5\n",
      "Dole Fresh Vegetables Inc                                     5\n",
      "Name: count, dtype: int64\n"
     ]
    }
   ],
   "source": [
    "# Get top 15 recalling firms\n",
    "firm_count_df = clean_df[\"Recalling Firm\"].value_counts().head(15)\n",
    "\n",
    "print(firm_count_df)"
   ]
  },
  {
   "cell_type": "code",
   "execution_count": 5,
   "metadata": {},
   "outputs": [
    {
     "data": {
      "image/png": "[encoded data removed]",
      "text/plain": [
       "<Figure size 1000x600 with 1 Axes>"
      ]
     },
     "metadata": {},
     "output_type": "display_data"
    }
   ],
   "source": [
    "# Plot the number of recalls by the top 15 recalling firms\n",
    "ax = firm_count_df.plot(kind=\"bar\", \n",
    "                   color = \"royalblue\",\n",
    "                   figsize=(10, 6), \n",
    "                   title=\"Top 15 Recalling Firms by Number of Recalls\")\n",
    "plt.xlabel(\"Recalling Firm\")\n",
    "plt.ylabel(\"Number of Recalls\")\n",
    "plt.xticks(rotation=-30, ha=\"left\")\n",
    "\n",
    "for container in ax.containers:\n",
    "    for bar in container:\n",
    "        height = bar.get_height()\n",
    "        # Determine the label position: top or bottom of the bar\n",
    "        if height > 0:\n",
    "            y_offset = height  \n",
    "            va = \"bottom\"  \n",
    "        else:\n",
    "            y_offset = height \n",
    "            va = \"top\"  \n",
    "        \n",
    "        # Add a text label, formatted to two decimal places\n",
    "        ax.text(bar.get_x() + bar.get_width() / 2, y_offset, \n",
    "                f'{height}', \n",
    "                ha=\"center\", va=va)\n",
    "\n",
    "\n",
    "plt.savefig(\"output_data/Top 15 Recalling Firms by Number of Recalls.png\")\n",
    "plt.show()\n"
   ]
  },
  {
   "cell_type": "code",
   "execution_count": 6,
   "metadata": {},
   "outputs": [
    {
     "data": {
      "application/vnd.plotly.v1+json": {
       "config": {
        "plotlyServerURL": "https://plot.ly"
       },
       "data": [
        {
         "name": "Class I",
         "type": "bar",
         "x": [
          "Abbott Laboratories",
          "Banner Smoked Fish Inc.",
          "Dole Fresh Vegetables Inc",
          "ELITE CONFECTIONERY LTD",
          "FRESH IDEATION FOOD GROUP, LLC dba Fresh Creative Cuisine",
          "Fresh Express Incorporated",
          "Giant Eagle",
          "ICE CREAM HOUSE",
          "Lemonland Food Corp",
          "Lyons Magnus, Inc",
          "Newly Weds Foods, Inc.",
          "Renaissance Food Group",
          "The JM Smucker Company LLC",
          "Vitality Works, Inc",
          "Wegmans Food Markets, Inc."
         ],
         "y": [
          2,
          5,
          4,
          6,
          34,
          0,
          4,
          5,
          0,
          6,
          13,
          5,
          6,
          0,
          0
         ]
        },
        {
         "name": "Class II",
         "type": "bar",
         "x": [
          "Abbott Laboratories",
          "Banner Smoked Fish Inc.",
          "Dole Fresh Vegetables Inc",
          "ELITE CONFECTIONERY LTD",
          "FRESH IDEATION FOOD GROUP, LLC dba Fresh Creative Cuisine",
          "Fresh Express Incorporated",
          "Giant Eagle",
          "ICE CREAM HOUSE",
          "Lemonland Food Corp",
          "Lyons Magnus, Inc",
          "Newly Weds Foods, Inc.",
          "Renaissance Food Group",
          "The JM Smucker Company LLC",
          "Vitality Works, Inc",
          "Wegmans Food Markets, Inc."
         ],
         "y": [
          2,
          0,
          1,
          0,
          0,
          9,
          2,
          0,
          6,
          0,
          0,
          0,
          0,
          9,
          6
         ]
        },
        {
         "name": "Class III",
         "type": "bar",
         "x": [
          "Abbott Laboratories",
          "Banner Smoked Fish Inc.",
          "Dole Fresh Vegetables Inc",
          "ELITE CONFECTIONERY LTD",
          "FRESH IDEATION FOOD GROUP, LLC dba Fresh Creative Cuisine",
          "Fresh Express Incorporated",
          "Giant Eagle",
          "ICE CREAM HOUSE",
          "Lemonland Food Corp",
          "Lyons Magnus, Inc",
          "Newly Weds Foods, Inc.",
          "Renaissance Food Group",
          "The JM Smucker Company LLC",
          "Vitality Works, Inc",
          "Wegmans Food Markets, Inc."
         ],
         "y": [
          1,
          0,
          0,
          0,
          0,
          0,
          0,
          0,
          0,
          0,
          0,
          0,
          0,
          0,
          0
         ]
        }
       ],
       "layout": {
        "barmode": "stack",
        "height": 700,
        "showlegend": true,
        "template": {
         "data": {
          "bar": [
           {
            "error_x": {
             "color": "#2a3f5f"
            },
            "error_y": {
             "color": "#2a3f5f"
            },
            "marker": {
             "line": {
              "color": "#E5ECF6",
              "width": 0.5
             },
             "pattern": {
              "fillmode": "overlay",
              "size": 10,
              "solidity": 0.2
             }
            },
            "type": "bar"
           }
          ],
          "barpolar": [
           {
            "marker": {
             "line": {
              "color": "#E5ECF6",
              "width": 0.5
             },
             "pattern": {
              "fillmode": "overlay",
              "size": 10,
              "solidity": 0.2
             }
            },
            "type": "barpolar"
           }
          ],
          "carpet": [
           {
            "aaxis": {
             "endlinecolor": "#2a3f5f",
             "gridcolor": "white",
             "linecolor": "white",
             "minorgridcolor": "white",
             "startlinecolor": "#2a3f5f"
            },
            "baxis": {
             "endlinecolor": "#2a3f5f",
             "gridcolor": "white",
             "linecolor": "white",
             "minorgridcolor": "white",
             "startlinecolor": "#2a3f5f"
            },
            "type": "carpet"
           }
          ],
          "choropleth": [
           {
            "colorbar": {
             "outlinewidth": 0,
             "ticks": ""
            },
            "type": "choropleth"
           }
          ],
          "contour": [
           {
            "colorbar": {
             "outlinewidth": 0,
             "ticks": ""
            },
            "colorscale": [
             [
              0,
              "#0d0887"
             ],
             [
              0.1111111111111111,
              "#46039f"
             ],
             [
              0.2222222222222222,
              "#7201a8"
             ],
             [
              0.3333333333333333,
              "#9c179e"
             ],
             [
              0.4444444444444444,
              "#bd3786"
             ],
             [
              0.5555555555555556,
              "#d8576b"
             ],
             [
              0.6666666666666666,
              "#ed7953"
             ],
             [
              0.7777777777777778,
              "#fb9f3a"
             ],
             [
              0.8888888888888888,
              "#fdca26"
             ],
             [
              1,
              "#f0f921"
             ]
            ],
            "type": "contour"
           }
          ],
          "contourcarpet": [
           {
            "colorbar": {
             "outlinewidth": 0,
             "ticks": ""
            },
            "type": "contourcarpet"
           }
          ],
          "heatmap": [
           {
            "colorbar": {
             "outlinewidth": 0,
             "ticks": ""
            },
            "colorscale": [
             [
              0,
              "#0d0887"
             ],
             [
              0.1111111111111111,
              "#46039f"
             ],
             [
              0.2222222222222222,
              "#7201a8"
             ],
             [
              0.3333333333333333,
              "#9c179e"
             ],
             [
              0.4444444444444444,
              "#bd3786"
             ],
             [
              0.5555555555555556,
              "#d8576b"
             ],
             [
              0.6666666666666666,
              "#ed7953"
             ],
             [
              0.7777777777777778,
              "#fb9f3a"
             ],
             [
              0.8888888888888888,
              "#fdca26"
             ],
             [
              1,
              "#f0f921"
             ]
            ],
            "type": "heatmap"
           }
          ],
          "heatmapgl": [
           {
            "colorbar": {
             "outlinewidth": 0,
             "ticks": ""
            },
            "colorscale": [
             [
              0,
              "#0d0887"
             ],
             [
              0.1111111111111111,
              "#46039f"
             ],
             [
              0.2222222222222222,
              "#7201a8"
             ],
             [
              0.3333333333333333,
              "#9c179e"
             ],
             [
              0.4444444444444444,
              "#bd3786"
             ],
             [
              0.5555555555555556,
              "#d8576b"
             ],
             [
              0.6666666666666666,
              "#ed7953"
             ],
             [
              0.7777777777777778,
              "#fb9f3a"
             ],
             [
              0.8888888888888888,
              "#fdca26"
             ],
             [
              1,
              "#f0f921"
             ]
            ],
            "type": "heatmapgl"
           }
          ],
          "histogram": [
           {
            "marker": {
             "pattern": {
              "fillmode": "overlay",
              "size": 10,
              "solidity": 0.2
             }
            },
            "type": "histogram"
           }
          ],
          "histogram2d": [
           {
            "colorbar": {
             "outlinewidth": 0,
             "ticks": ""
            },
            "colorscale": [
             [
              0,
              "#0d0887"
             ],
             [
              0.1111111111111111,
              "#46039f"
             ],
             [
              0.2222222222222222,
              "#7201a8"
             ],
             [
              0.3333333333333333,
              "#9c179e"
             ],
             [
              0.4444444444444444,
              "#bd3786"
             ],
             [
              0.5555555555555556,
              "#d8576b"
             ],
             [
              0.6666666666666666,
              "#ed7953"
             ],
             [
              0.7777777777777778,
              "#fb9f3a"
             ],
             [
              0.8888888888888888,
              "#fdca26"
             ],
             [
              1,
              "#f0f921"
             ]
            ],
            "type": "histogram2d"
           }
          ],
          "histogram2dcontour": [
           {
            "colorbar": {
             "outlinewidth": 0,
             "ticks": ""
            },
            "colorscale": [
             [
              0,
              "#0d0887"
             ],
             [
              0.1111111111111111,
              "#46039f"
             ],
             [
              0.2222222222222222,
              "#7201a8"
             ],
             [
              0.3333333333333333,
              "#9c179e"
             ],
             [
              0.4444444444444444,
              "#bd3786"
             ],
             [
              0.5555555555555556,
              "#d8576b"
             ],
             [
              0.6666666666666666,
              "#ed7953"
             ],
             [
              0.7777777777777778,
              "#fb9f3a"
             ],
             [
              0.8888888888888888,
              "#fdca26"
             ],
             [
              1,
              "#f0f921"
             ]
            ],
            "type": "histogram2dcontour"
           }
          ],
          "mesh3d": [
           {
            "colorbar": {
             "outlinewidth": 0,
             "ticks": ""
            },
            "type": "mesh3d"
           }
          ],
          "parcoords": [
           {
            "line": {
             "colorbar": {
              "outlinewidth": 0,
              "ticks": ""
             }
            },
            "type": "parcoords"
           }
          ],
          "pie": [
           {
            "automargin": true,
            "type": "pie"
           }
          ],
          "scatter": [
           {
            "fillpattern": {
             "fillmode": "overlay",
             "size": 10,
             "solidity": 0.2
            },
            "type": "scatter"
           }
          ],
          "scatter3d": [
           {
            "line": {
             "colorbar": {
              "outlinewidth": 0,
              "ticks": ""
             }
            },
            "marker": {
             "colorbar": {
              "outlinewidth": 0,
              "ticks": ""
             }
            },
            "type": "scatter3d"
           }
          ],
          "scattercarpet": [
           {
            "marker": {
             "colorbar": {
              "outlinewidth": 0,
              "ticks": ""
             }
            },
            "type": "scattercarpet"
           }
          ],
          "scattergeo": [
           {
            "marker": {
             "colorbar": {
              "outlinewidth": 0,
              "ticks": ""
             }
            },
            "type": "scattergeo"
           }
          ],
          "scattergl": [
           {
            "marker": {
             "colorbar": {
              "outlinewidth": 0,
              "ticks": ""
             }
            },
            "type": "scattergl"
           }
          ],
          "scattermapbox": [
           {
            "marker": {
             "colorbar": {
              "outlinewidth": 0,
              "ticks": ""
             }
            },
            "type": "scattermapbox"
           }
          ],
          "scatterpolar": [
           {
            "marker": {
             "colorbar": {
              "outlinewidth": 0,
              "ticks": ""
             }
            },
            "type": "scatterpolar"
           }
          ],
          "scatterpolargl": [
           {
            "marker": {
             "colorbar": {
              "outlinewidth": 0,
              "ticks": ""
             }
            },
            "type": "scatterpolargl"
           }
          ],
          "scatterternary": [
           {
            "marker": {
             "colorbar": {
              "outlinewidth": 0,
              "ticks": ""
             }
            },
            "type": "scatterternary"
           }
          ],
          "surface": [
           {
            "colorbar": {
             "outlinewidth": 0,
             "ticks": ""
            },
            "colorscale": [
             [
              0,
              "#0d0887"
             ],
             [
              0.1111111111111111,
              "#46039f"
             ],
             [
              0.2222222222222222,
              "#7201a8"
             ],
             [
              0.3333333333333333,
              "#9c179e"
             ],
             [
              0.4444444444444444,
              "#bd3786"
             ],
             [
              0.5555555555555556,
              "#d8576b"
             ],
             [
              0.6666666666666666,
              "#ed7953"
             ],
             [
              0.7777777777777778,
              "#fb9f3a"
             ],
             [
              0.8888888888888888,
              "#fdca26"
             ],
             [
              1,
              "#f0f921"
             ]
            ],
            "type": "surface"
           }
          ],
          "table": [
           {
            "cells": {
             "fill": {
              "color": "#EBF0F8"
             },
             "line": {
              "color": "white"
             }
            },
            "header": {
             "fill": {
              "color": "#C8D4E3"
             },
             "line": {
              "color": "white"
             }
            },
            "type": "table"
           }
          ]
         },
         "layout": {
          "annotationdefaults": {
           "arrowcolor": "#2a3f5f",
           "arrowhead": 0,
           "arrowwidth": 1
          },
          "autotypenumbers": "strict",
          "coloraxis": {
           "colorbar": {
            "outlinewidth": 0,
            "ticks": ""
           }
          },
          "colorscale": {
           "diverging": [
            [
             0,
             "#8e0152"
            ],
            [
             0.1,
             "#c51b7d"
            ],
            [
             0.2,
             "#de77ae"
            ],
            [
             0.3,
             "#f1b6da"
            ],
            [
             0.4,
             "#fde0ef"
            ],
            [
             0.5,
             "#f7f7f7"
            ],
            [
             0.6,
             "#e6f5d0"
            ],
            [
             0.7,
             "#b8e186"
            ],
            [
             0.8,
             "#7fbc41"
            ],
            [
             0.9,
             "#4d9221"
            ],
            [
             1,
             "#276419"
            ]
           ],
           "sequential": [
            [
             0,
             "#0d0887"
            ],
            [
             0.1111111111111111,
             "#46039f"
            ],
            [
             0.2222222222222222,
             "#7201a8"
            ],
            [
             0.3333333333333333,
             "#9c179e"
            ],
            [
             0.4444444444444444,
             "#bd3786"
            ],
            [
             0.5555555555555556,
             "#d8576b"
            ],
            [
             0.6666666666666666,
             "#ed7953"
            ],
            [
             0.7777777777777778,
             "#fb9f3a"
            ],
            [
             0.8888888888888888,
             "#fdca26"
            ],
            [
             1,
             "#f0f921"
            ]
           ],
           "sequentialminus": [
            [
             0,
             "#0d0887"
            ],
            [
             0.1111111111111111,
             "#46039f"
            ],
            [
             0.2222222222222222,
             "#7201a8"
            ],
            [
             0.3333333333333333,
             "#9c179e"
            ],
            [
             0.4444444444444444,
             "#bd3786"
            ],
            [
             0.5555555555555556,
             "#d8576b"
            ],
            [
             0.6666666666666666,
             "#ed7953"
            ],
            [
             0.7777777777777778,
             "#fb9f3a"
            ],
            [
             0.8888888888888888,
             "#fdca26"
            ],
            [
             1,
             "#f0f921"
            ]
           ]
          },
          "colorway": [
           "#636efa",
           "#EF553B",
           "#00cc96",
           "#ab63fa",
           "#FFA15A",
           "#19d3f3",
           "#FF6692",
           "#B6E880",
           "#FF97FF",
           "#FECB52"
          ],
          "font": {
           "color": "#2a3f5f"
          },
          "geo": {
           "bgcolor": "white",
           "lakecolor": "white",
           "landcolor": "#E5ECF6",
           "showlakes": true,
           "showland": true,
           "subunitcolor": "white"
          },
          "hoverlabel": {
           "align": "left"
          },
          "hovermode": "closest",
          "mapbox": {
           "style": "light"
          },
          "paper_bgcolor": "white",
          "plot_bgcolor": "#E5ECF6",
          "polar": {
           "angularaxis": {
            "gridcolor": "white",
            "linecolor": "white",
            "ticks": ""
           },
           "bgcolor": "#E5ECF6",
           "radialaxis": {
            "gridcolor": "white",
            "linecolor": "white",
            "ticks": ""
           }
          },
          "scene": {
           "xaxis": {
            "backgroundcolor": "#E5ECF6",
            "gridcolor": "white",
            "gridwidth": 2,
            "linecolor": "white",
            "showbackground": true,
            "ticks": "",
            "zerolinecolor": "white"
           },
           "yaxis": {
            "backgroundcolor": "#E5ECF6",
            "gridcolor": "white",
            "gridwidth": 2,
            "linecolor": "white",
            "showbackground": true,
            "ticks": "",
            "zerolinecolor": "white"
           },
           "zaxis": {
            "backgroundcolor": "#E5ECF6",
            "gridcolor": "white",
            "gridwidth": 2,
            "linecolor": "white",
            "showbackground": true,
            "ticks": "",
            "zerolinecolor": "white"
           }
          },
          "shapedefaults": {
           "line": {
            "color": "#2a3f5f"
           }
          },
          "ternary": {
           "aaxis": {
            "gridcolor": "white",
            "linecolor": "white",
            "ticks": ""
           },
           "baxis": {
            "gridcolor": "white",
            "linecolor": "white",
            "ticks": ""
           },
           "bgcolor": "#E5ECF6",
           "caxis": {
            "gridcolor": "white",
            "linecolor": "white",
            "ticks": ""
           }
          },
          "title": {
           "x": 0.05
          },
          "xaxis": {
           "automargin": true,
           "gridcolor": "white",
           "linecolor": "white",
           "ticks": "",
           "title": {
            "standoff": 15
           },
           "zerolinecolor": "white",
           "zerolinewidth": 2
          },
          "yaxis": {
           "automargin": true,
           "gridcolor": "white",
           "linecolor": "white",
           "ticks": "",
           "title": {
            "standoff": 15
           },
           "zerolinecolor": "white",
           "zerolinewidth": 2
          }
         }
        },
        "title": {
         "text": "Classification Breakdown by Top 15 Recalling Firms"
        },
        "width": 1000,
        "xaxis": {
         "title": {
          "text": "Recalling Firm"
         }
        }
       }
      }
     },
     "metadata": {},
     "output_type": "display_data"
    }
   ],
   "source": [
    "# Get the top 15 recalling firms\n",
    "top_firms = clean_df[\"Recalling Firm\"].value_counts().head(15).index\n",
    "\n",
    "# Filter the dataset to include only the top 15 firms\n",
    "filtered_df = clean_df[clean_df[\"Recalling Firm\"].isin(top_firms)]\n",
    "\n",
    "# Group the data by firm and status\n",
    "grouped_data = filtered_df.groupby([\"Recalling Firm\", 'Classification']).size().unstack(fill_value=0)\n",
    "\n",
    "# Create a single subplot\n",
    "fig = go.Figure()\n",
    "\n",
    "# Stacked bar plot for status breakdown\n",
    "for status in grouped_data.columns:\n",
    "    fig.add_trace(\n",
    "        go.Bar(x=grouped_data.index, y=grouped_data[status], name=status)\n",
    "    )\n",
    "\n",
    "# Update layout for a better presentation\n",
    "fig.update_layout(\n",
    "    barmode=\"stack\",\n",
    "    height=700,\n",
    "    width=1000,\n",
    "    title_text=\"Classification Breakdown by Top 15 Recalling Firms\",\n",
    "    showlegend=True\n",
    ")\n",
    "\n",
    "fig.update_xaxes(title_text=\"Recalling Firm\")"
   ]
  },
  {
   "cell_type": "code",
   "execution_count": null,
   "metadata": {},
   "outputs": [],
   "source": []
  }
 ],
 "metadata": {
  "kernelspec": {
   "display_name": "base",
   "language": "python",
   "name": "python3"
  },
  "language_info": {
   "codemirror_mode": {
    "name": "ipython",
    "version": 3
   },
   "file_extension": ".py",
   "mimetype": "text/x-python",
   "name": "python",
   "nbconvert_exporter": "python",
   "pygments_lexer": "ipython3",
   "version": "3.12.4"
  }
 },
 "nbformat": 4,
 "nbformat_minor": 2
}
